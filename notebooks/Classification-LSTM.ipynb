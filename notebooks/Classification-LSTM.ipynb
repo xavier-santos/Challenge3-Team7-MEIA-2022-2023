{
 "cells": [
  {
   "cell_type": "code",
   "execution_count": 32,
   "id": "3d35a6b6",
   "metadata": {},
   "outputs": [
    {
     "name": "stdout",
     "output_type": "stream",
     "text": [
      "Epoch 1/15\n",
      "160/160 - 95s - loss: 0.5641 - accuracy: 0.2596 - val_loss: 0.5592 - val_accuracy: 0.2648 - 95s/epoch - 597ms/step\n",
      "Epoch 2/15\n",
      "160/160 - 68s - loss: 0.5580 - accuracy: 0.2645 - val_loss: 0.5586 - val_accuracy: 0.2648 - 68s/epoch - 428ms/step\n",
      "Epoch 3/15\n",
      "160/160 - 71s - loss: 0.5575 - accuracy: 0.2577 - val_loss: 0.5590 - val_accuracy: 0.2648 - 71s/epoch - 444ms/step\n",
      "Epoch 4/15\n",
      "160/160 - 67s - loss: 0.5547 - accuracy: 0.2586 - val_loss: 0.5443 - val_accuracy: 0.2219 - 67s/epoch - 421ms/step\n",
      "Epoch 5/15\n",
      "160/160 - 65s - loss: 0.5275 - accuracy: 0.2827 - val_loss: 0.5049 - val_accuracy: 0.3023 - 65s/epoch - 408ms/step\n",
      "Epoch 6/15\n",
      "160/160 - 61s - loss: 0.4634 - accuracy: 0.3491 - val_loss: 0.4736 - val_accuracy: 0.2570 - 61s/epoch - 380ms/step\n",
      "Epoch 7/15\n",
      "160/160 - 65s - loss: 0.4152 - accuracy: 0.3735 - val_loss: 0.4414 - val_accuracy: 0.3805 - 65s/epoch - 406ms/step\n",
      "Epoch 8/15\n",
      "160/160 - 72s - loss: 0.3754 - accuracy: 0.4218 - val_loss: 0.4377 - val_accuracy: 0.3711 - 72s/epoch - 447ms/step\n",
      "Epoch 9/15\n",
      "160/160 - 68s - loss: 0.3366 - accuracy: 0.4241 - val_loss: 0.4282 - val_accuracy: 0.3547 - 68s/epoch - 426ms/step\n",
      "Epoch 10/15\n",
      "160/160 - 63s - loss: 0.2992 - accuracy: 0.4450 - val_loss: 0.4333 - val_accuracy: 0.3430 - 63s/epoch - 394ms/step\n",
      "Epoch 11/15\n",
      "160/160 - 67s - loss: 0.2661 - accuracy: 0.4421 - val_loss: 0.4423 - val_accuracy: 0.3547 - 67s/epoch - 417ms/step\n",
      "Epoch 12/15\n",
      "160/160 - 63s - loss: 0.2338 - accuracy: 0.4681 - val_loss: 0.4387 - val_accuracy: 0.3883 - 63s/epoch - 394ms/step\n",
      "Epoch 13/15\n",
      "160/160 - 63s - loss: 0.2040 - accuracy: 0.4880 - val_loss: 0.4651 - val_accuracy: 0.3609 - 63s/epoch - 391ms/step\n",
      "Epoch 14/15\n",
      "160/160 - 69s - loss: 0.1750 - accuracy: 0.4983 - val_loss: 0.4792 - val_accuracy: 0.3797 - 69s/epoch - 434ms/step\n",
      "Epoch 15/15\n",
      "160/160 - 65s - loss: 0.1536 - accuracy: 0.4829 - val_loss: 0.4863 - val_accuracy: 0.4133 - 65s/epoch - 406ms/step\n",
      "40/40 [==============================] - 6s 139ms/step - loss: 0.4863 - accuracy: 0.4133\n",
      "Loss: 0.486295223236084\n",
      "Accuracy: 0.41328126192092896\n"
     ]
    }
   ],
   "source": [
    "import numpy as np\n",
    "import pandas as pd\n",
    "from tensorflow.keras.preprocessing.text import Tokenizer\n",
    "from tensorflow.keras.preprocessing.sequence import pad_sequences\n",
    "from tensorflow.keras.models import Sequential\n",
    "from tensorflow.keras.layers import Embedding, LSTM, TimeDistributed, Dense, Dropout\n",
    "from tensorflow.keras.optimizers import RMSprop, Adam\n",
    "\n",
    "train_data = pd.read_csv('../data/balanced_train.csv')\n",
    "test_data = pd.read_csv('../data/balanced_test.csv')\n",
    "\n",
    "genre_columns = train_data.columns.drop(['Name', 'Description Tokenized'])\n",
    "\n",
    "# Tokenizar os textos\n",
    "tokenizer = Tokenizer()\n",
    "tokenizer.fit_on_texts(list(train_data['Description Tokenized']) + list(test_data['Description Tokenized']))\n",
    "word_index = tokenizer.word_index\n",
    "num_words = len(word_index) + 1\n",
    "\n",
    "X_train = tokenizer.texts_to_sequences(train_data['Description Tokenized'])\n",
    "X_test = tokenizer.texts_to_sequences(test_data['Description Tokenized'])\n",
    "\n",
    "maxlen = max(max([len(sequence) for sequence in X_train]), max([len(sequence) for sequence in X_test]))\n",
    "\n",
    "# Padronizar os textos\n",
    "X_train = pad_sequences(X_train, maxlen=maxlen)\n",
    "X_test = pad_sequences(X_test, maxlen=maxlen)\n",
    "\n",
    "#labels one-hot encoded\n",
    "y_train = train_data[genre_columns].values\n",
    "y_test = test_data[genre_columns].values\n",
    "\n",
    "\n",
    "# modelo LSTM unidirecional\n",
    "embedding_dim = 100\n",
    "\n",
    "model = Sequential()\n",
    "model.add(Embedding(num_words, embedding_dim, input_length=maxlen))\n",
    "model.add(LSTM(128, return_sequences=True, dropout=0.25, recurrent_dropout=0.25))\n",
    "model.add(TimeDistributed(Dense(128, activation='relu')))\n",
    "model.add(Dropout(0.5))\n",
    "model.add(LSTM(128, dropout=0.25, recurrent_dropout=0.25))\n",
    "model.add(Dense(len(genre_columns), activation='sigmoid'))\n",
    "\n",
    "# Compilar e treinar o modelo\n",
    "optimizer = RMSprop(learning_rate=0.01)\n",
    "model.compile(loss='binary_crossentropy', optimizer=optimizer, metrics=['accuracy'])\n",
    "\n",
    "num_epochs = 15\n",
    "history = model.fit(X_train, y_train, epochs=num_epochs, validation_data=(X_test, y_test), verbose=2)\n",
    "\n",
    "# 4. Avaliar o modelo\n",
    "loss, accuracy = model.evaluate(X_test, y_test)\n",
    "print('Loss:', loss)\n",
    "print('Accuracy:', accuracy)"
   ]
  },
  {
   "cell_type": "code",
   "execution_count": 33,
   "id": "845f2d87",
   "metadata": {},
   "outputs": [
    {
     "name": "stdout",
     "output_type": "stream",
     "text": [
      "40/40 [==============================] - 6s 133ms/step\n",
      "                         precision    recall  f1-score   support\n",
      "\n",
      "                 Comedy       0.69      0.72      0.71       487\n",
      "                  Crime       0.73      0.79      0.76       271\n",
      "                  Drama       0.71      0.82      0.76       613\n",
      "                Romance       0.71      0.64      0.67       270\n",
      "   Action and Adventure       0.76      0.65      0.70       463\n",
      "Documentary and History       0.77      0.50      0.61       172\n",
      "   Family and Animation       0.74      0.60      0.66       275\n",
      "     Fantasy and Sci-Fi       0.71      0.64      0.67       259\n",
      "    Horror and Thriller       0.68      0.61      0.64       309\n",
      "\n",
      "              micro avg       0.72      0.69      0.70      3119\n",
      "              macro avg       0.72      0.66      0.69      3119\n",
      "           weighted avg       0.72      0.69      0.70      3119\n",
      "            samples avg       0.71      0.67      0.67      3119\n",
      "\n"
     ]
    }
   ],
   "source": [
    "from sklearn.metrics import classification_report\n",
    "\n",
    "y_pred = model.predict(X_test)\n",
    "y_pred_binarized = np.round(y_pred)\n",
    "\n",
    "report = classification_report(y_test, y_pred_binarized, target_names=genre_columns, zero_division=0)\n",
    "print(report)"
   ]
  },
  {
   "cell_type": "code",
   "execution_count": null,
   "id": "208623d9",
   "metadata": {},
   "outputs": [],
   "source": []
  }
 ],
 "metadata": {
  "kernelspec": {
   "display_name": "Python 3 (ipykernel)",
   "language": "python",
   "name": "python3"
  },
  "language_info": {
   "codemirror_mode": {
    "name": "ipython",
    "version": 3
   },
   "file_extension": ".py",
   "mimetype": "text/x-python",
   "name": "python",
   "nbconvert_exporter": "python",
   "pygments_lexer": "ipython3",
   "version": "3.9.16"
  }
 },
 "nbformat": 4,
 "nbformat_minor": 5
}
