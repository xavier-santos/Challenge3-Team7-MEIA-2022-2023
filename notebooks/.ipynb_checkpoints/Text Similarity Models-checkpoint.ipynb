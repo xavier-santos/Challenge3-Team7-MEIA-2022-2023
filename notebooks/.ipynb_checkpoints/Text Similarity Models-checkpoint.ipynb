{
 "cells": [
  {
   "cell_type": "code",
   "execution_count": 1,
   "id": "cfb4c88a",
   "metadata": {
    "ExecuteTime": {
     "end_time": "2023-04-18T17:36:47.282685Z",
     "start_time": "2023-04-18T17:36:34.152592Z"
    }
   },
   "outputs": [
    {
     "ename": "ModuleNotFoundError",
     "evalue": "No module named 'nltk'",
     "output_type": "error",
     "traceback": [
      "\u001b[1;31m---------------------------------------------------------------------------\u001b[0m",
      "\u001b[1;31mModuleNotFoundError\u001b[0m                       Traceback (most recent call last)",
      "Cell \u001b[1;32mIn[1], line 5\u001b[0m\n\u001b[0;32m      3\u001b[0m \u001b[38;5;28;01mfrom\u001b[39;00m \u001b[38;5;21;01msklearn\u001b[39;00m\u001b[38;5;21;01m.\u001b[39;00m\u001b[38;5;21;01mmetrics\u001b[39;00m\u001b[38;5;21;01m.\u001b[39;00m\u001b[38;5;21;01mpairwise\u001b[39;00m \u001b[38;5;28;01mimport\u001b[39;00m cosine_similarity\n\u001b[0;32m      4\u001b[0m \u001b[38;5;28;01mimport\u001b[39;00m \u001b[38;5;21;01mnumpy\u001b[39;00m \u001b[38;5;28;01mas\u001b[39;00m \u001b[38;5;21;01mnp\u001b[39;00m\n\u001b[1;32m----> 5\u001b[0m \u001b[38;5;28;01mimport\u001b[39;00m \u001b[38;5;21;01mnltk\u001b[39;00m\n\u001b[0;32m      6\u001b[0m \u001b[38;5;28;01mfrom\u001b[39;00m \u001b[38;5;21;01mnltk\u001b[39;00m\u001b[38;5;21;01m.\u001b[39;00m\u001b[38;5;21;01mstem\u001b[39;00m \u001b[38;5;28;01mimport\u001b[39;00m WordNetLemmatizer\n\u001b[0;32m      7\u001b[0m \u001b[38;5;28;01mimport\u001b[39;00m \u001b[38;5;21;01mre\u001b[39;00m\n",
      "\u001b[1;31mModuleNotFoundError\u001b[0m: No module named 'nltk'"
     ]
    }
   ],
   "source": [
    "import pandas as pd\n",
    "from sklearn.feature_extraction.text import CountVectorizer, TfidfVectorizer\n",
    "from sklearn.metrics.pairwise import cosine_similarity\n",
    "import numpy as np\n",
    "import nltk\n",
    "from nltk.stem import WordNetLemmatizer\n",
    "import re\n",
    "from nltk.corpus import stopwords\n",
    "from nltk.tokenize import RegexpTokenizer\n",
    "import string\n",
    "import unicodedata\n",
    "from rake_nltk import Rake\n",
    "from nltk.tokenize import RegexpTokenizer\n",
    "nltk.download('punkt')\n",
    "nltk.download('wordnet')\n",
    "nltk.download('omw-1.4')\n",
    "nltk.download('stopwords')\n",
    "\n",
    "movies_df = pd.read_csv('../data/similarity_model_dataset.csv')# Get user input description\n",
    "\n",
    "example_user_input = \"In this thrilling fantasy film, a young wizard competes in a dangerous tournament between rival schools of magic. Along with his friends, he navigates challenging tasks and uncovers a dark conspiracy that threatens the entire wizarding world. With impressive special effects and a talented cast, this captivating adventure is full of action, humor, and heart.\"\n"
   ]
  },
  {
   "cell_type": "code",
   "execution_count": null,
   "id": "e4043fe8",
   "metadata": {
    "ExecuteTime": {
     "end_time": "2023-04-18T17:36:47.287670Z",
     "start_time": "2023-04-18T17:36:47.287670Z"
    }
   },
   "outputs": [],
   "source": [
    "def remove_accents(sentence):\n",
    "    cleaned_sentence = unicodedata.normalize('NFD', sentence)\n",
    "    cleaned_sentence = cleaned_sentence.encode('ascii', 'ignore')\n",
    "    cleaned_sentence = cleaned_sentence.decode(\"utf-8\")\n",
    "    return cleaned_sentence\n",
    "\n",
    "def remove_punctuation(sentence):\n",
    "    cleaned_sentence = re.sub(r'[?|!|\\'|\"|#]', '', sentence)\n",
    "    cleaned_sentence = re.sub(r'[,|.|;|:|(|)|{|}|\\|/|<|>]|-', ' ', cleaned_sentence)\n",
    "    cleaned_sentence = cleaned_sentence.replace(\"\\n\",\" \")\n",
    "    return cleaned_sentence\n",
    "\n",
    "def keep_alpha(sentence):\n",
    "    alpha_sentence = re.sub('[^a-z A-Z]+', ' ', sentence)\n",
    "    return alpha_sentence\n",
    "\n",
    "def stemming(sentence):\n",
    "    stemmer = SnowballStemmer(\"english\")\n",
    "    stemmed_words = [stemmer.stem(word) for word in sentence.split()]\n",
    "    stemmed_sentence=' '.join(stemmed_words)\n",
    "    return stemmed_sentence\n",
    "\n",
    "def lemmatize_words(sentence):\n",
    "    lem = WordNetLemmatizer()\n",
    "    lemmatized_words = [lem.lemmatize(word, 'v') for word in sentence.split()]\n",
    "    lemmatized_sentence=' '.join(lemmatized_words)\n",
    "    return lemmatized_sentence\n",
    "\n",
    "def remove_stop_words(sentence):\n",
    "    stop_words = set(stopwords.words('english'))\n",
    "    stop_words.update(['zero','one','two','three','four','five','six','seven','eight','nine','ten',\n",
    "                       'may','also','across','among','beside','however','yet','within','find'])\n",
    "    no_stop_words=[word for word in sentence.split() if word not in stop_words]\n",
    "    no_step_sentence = ' '.join(no_stop_words)\n",
    "    return no_step_sentence\n",
    "\n",
    "def lower_case(sentence):\n",
    "    lower_case_sentence = sentence.lower()\n",
    "    return lower_case_sentence\n",
    "\n",
    "def tokenize_input(sentence):\n",
    "    pre_processed_sentence = remove_accents(sentence)\n",
    "    pre_processed_sentence = remove_punctuation(pre_processed_sentence)\n",
    "    pre_processed_sentence = keep_alpha(pre_processed_sentence)\n",
    "    pre_processed_sentence = lower_case(pre_processed_sentence)\n",
    "    pre_processed_sentence = lemmatize_words(pre_processed_sentence)\n",
    "    pre_processed_sentence = remove_stop_words(pre_processed_sentence)\n",
    "    return pre_processed_sentence\n",
    "\n",
    "def get_movies_ranked_bow(user_input, movies_df):\n",
    "    vectorizer = CountVectorizer()\n",
    "    movie_bow = vectorizer.fit_transform(movies_df['Description Tokenized'])\n",
    "    tokenized_user_input = tokenize_input(user_input)\n",
    "    tokenized_user_input = RegexpTokenizer(r'[a-zA-z]+').tokenize(tokenized_user_input)\n",
    "    user_input_bow = vectorizer.transform(tokenized_user_input)\n",
    "    similarity_scores = cosine_similarity(user_input_bow, movie_bow)\n",
    "    movies_df = movies_df.assign(similarity=similarity_scores[0])\n",
    "    return movies_df.sort_values('similarity', ascending=False).reset_index(drop=True)\n"
   ]
  },
  {
   "cell_type": "code",
   "execution_count": null,
   "id": "b33a9b6d",
   "metadata": {
    "ExecuteTime": {
     "end_time": "2023-04-18T17:36:47.289672Z",
     "start_time": "2023-04-18T17:36:47.289672Z"
    }
   },
   "outputs": [],
   "source": [
    "def get_movies_ranked_tfidf(user_input, movies_df):\n",
    "    vectorizer = TfidfVectorizer()   \n",
    "    tokenized_user_input = tokenize_input(user_input)\n",
    "    tokenized_user_input = RegexpTokenizer(r'[a-zA-z]+').tokenize(tokenized_user_input)\n",
    "    tfidf_bow = vectorizer.fit_transform(movies_df['Description Tokenized'])\n",
    "    user_input_tfidf_bow = vectorizer.transform(tokenized_user_input)\n",
    "    tfidf_scores = cosine_similarity(user_input_tfidf_bow, tfidf_bow)\n",
    "    movies_df = movies_df.assign(similarity=tfidf_scores[0])\n",
    "    return movies_df.sort_values('similarity', ascending=False).reset_index(drop=True)\n",
    "    \n"
   ]
  },
  {
   "cell_type": "code",
   "execution_count": null,
   "id": "a6c58d86",
   "metadata": {
    "ExecuteTime": {
     "end_time": "2023-04-18T17:36:47.291671Z",
     "start_time": "2023-04-18T17:36:47.291671Z"
    }
   },
   "outputs": [],
   "source": [
    "def get_similar_movies(user_input, r, vectorizer, tfidf_matrix, n=10):\n",
    "    keywords = r.extract_keywords_from_text(user_input)\n",
    "    user_input_keywords = r.get_ranked_phrases()\n",
    "    user_input_tfidf = vectorizer.transform(user_input_keywords)\n",
    "    return cosine_similarity(user_input_tfidf, tfidf_matrix)\n",
    "    \n",
    "\n",
    "def get_movies_ranked_rake(user_input, movies_df):\n",
    "    r = Rake()\n",
    "    vectorizer = TfidfVectorizer()\n",
    "    tfidf_matrix = vectorizer.fit_transform(movies_df['Description Tokenized'])\n",
    "    cosine_similarities = get_similar_movies(user_input, r, vectorizer, tfidf_matrix)\n",
    "    movies_df = movies_df.assign(similarity=cosine_similarities[0])\n",
    "    return movies_df.sort_values('similarity', ascending=False).reset_index(drop=True)\n"
   ]
  },
  {
   "cell_type": "code",
   "execution_count": null,
   "id": "a5d65651",
   "metadata": {
    "ExecuteTime": {
     "end_time": "2023-04-18T17:36:47.294670Z",
     "start_time": "2023-04-18T17:36:47.294670Z"
    }
   },
   "outputs": [],
   "source": [
    "test_cases = [\n",
    "    (\"The fourth movie in the Harry Potter franchise sees Harry returning for his fourth year at Hogwarts School of Witchcraft and Wizardry, along with his friends, Ron (Rupert Grint) and Hermione (Emma Watson). There is an upcoming tournament between the three major schools of magic, with one participant selected from each school by the Goblet of Fire. When Harry's name is drawn, even though he is not eligible and is a fourth player, he must compete in the dangerous contest.\", \"Harry Potter and the Goblet of Fire\"),\n",
    "    (\"When a group of terrorists take over the Nakatomi Plaza in Los Angeles, New York City police officer John McClane (Bruce Willis) must use his cunning and fighting skills to take down the villains and save the hostages, including his estranged wife.\", \"Die Hard\"),\n",
    "    (\"In a post-apocalyptic world, Katniss Everdeen (Jennifer Lawrence) volunteers to compete in the annual Hunger Games, a televised fight to the death between children from each of the twelve districts of Panem. With the help of fellow tribute Peeta Mellark (Josh Hutcherson), Katniss must fight for survival and challenge the oppressive government.\", \"The Hunger Games\"),\n",
    "    (\"In the world of professional street racing, Dominic Toretto (Vin Diesel) and his crew must work together to take down a common enemy, a dangerous drug lord named Arturo Braga. With high-speed chases and intense action, the stakes have never been higher for Dom and his team.\", \"Fast & Furious\"),\n",
    "    (\"A brilliant scientist, Dr. Bruce Banner (Edward Norton) must confront his inner demons and fight against the military and his own alter ego, the Hulk. With the help of his love interest Betty Ross (Liv Tyler), Bruce must find a way to control the monster within and stop a dangerous villain from exploiting his power.\", \"The Incredible Hulk\"),\n",
    "    (\"In 1942, a group of Allied soldiers are stranded in Nazi-occupied France and must carry out a dangerous mission to take down a German radio tower. Led by Captain John H. Miller (Tom Hanks), the team faces overwhelming odds and must rely on their courage and camaraderie to succeed.\", \"Saving Private Ryan\")]\n"
   ]
  },
  {
   "cell_type": "code",
   "execution_count": null,
   "id": "99ea7a32",
   "metadata": {
    "ExecuteTime": {
     "end_time": "2023-04-18T17:36:47.296670Z",
     "start_time": "2023-04-18T17:36:47.296670Z"
    },
    "scrolled": true
   },
   "outputs": [],
   "source": [
    "def get_similarity(test_case, algorithm, movies_df):\n",
    "    description, expected_movie = test_case\n",
    "    movies_df = algorithm(description, movies_df)\n",
    "    expected_row = movies_df.loc[movies_df['Name'] == expected_movie]\n",
    "    similarity = expected_row['similarity'].values[0]\n",
    "    index = expected_row.index[0] + 1\n",
    "    return similarity, index\n"
   ]
  },
  {
   "cell_type": "code",
   "execution_count": null,
   "id": "a1709b18",
   "metadata": {
    "ExecuteTime": {
     "end_time": "2023-04-18T17:36:47.298670Z",
     "start_time": "2023-04-18T17:36:47.298670Z"
    }
   },
   "outputs": [],
   "source": [
    "test_cases = [\n",
    "    (\"The fourth movie in the Harry Potter franchise sees Harry returning for his fourth year at Hogwarts School of Witchcraft and Wizardry, along with his friends, Ron (Rupert Grint) and Hermione (Emma Watson). There is an upcoming tournament between the three major schools of magic, with one participant selected from each school by the Goblet of Fire. When Harry's name is drawn, even though he is not eligible and is a fourth player, he must compete in the dangerous contest.\", \"Harry Potter and the Goblet of Fire\"),\n",
    "    (\"When a group of terrorists take over the Nakatomi Plaza in Los Angeles, New York City police officer John McClane (Bruce Willis) must use his cunning and fighting skills to take down the villains and save the hostages, including his estranged wife.\", \"Die Hard with a Vengeance\"),\n",
    "    (\"Lion prince Simba and his father are targeted by his bitter uncle, who wants to ascend the throne himself.\", \"The Lion King\"),\n",
    "    (\"In a post-apocalyptic world, Katniss Everdeen (Jennifer Lawrence) volunteers to compete in the annual Hunger Games, a televised fight to the death between children from each of the twelve districts of Panem. With the help of fellow tribute Peeta Mellark (Josh Hutcherson), Katniss must fight for survival and challenge the oppressive government.\", \"The Hunger Games\"),\n",
    "    (\"A brilliant scientist, Dr. Bruce Banner (Edward Norton) must confront his inner demons and fight against the military and his own alter ego, the Hulk. With the help of his love interest Betty Ross (Liv Tyler), Bruce must find a way to control the monster within and stop a dangerous villain from exploiting his power.\", \"The Incredible Hulk\"),\n",
    "    (\"In 1942, a group of Allied soldiers are stranded in Nazi-occupied France and must carry out a dangerous mission to take down a German radio tower. Led by Captain John H. Miller (Tom Hanks), the team faces overwhelming odds and must rely on their courage and camaraderie to succeed.\", \"Saving Private Ryan\"),\n",
    "    (\"A gunslinger (Antonio Banderas) seeks revenge on the drug lord (Joaquim de Almeida) who killed his lover in this action-packed western.\", \"Desperado\"),\n",
    "    (\"The long-awaited sequel to Avatar finds Jake Sully (Sam Worthington) and Neytiri (Zoe Saldana) returning to the magical world of Pandora, where they must fight to protect their people and their planet from new threats.\", \"Avatar: The Way of Water\"),\n",
    "    (\"Rocky Balboa proudly holds the world heavyweight boxing championship, but a new challenger has stepped forward: Drago, a six-foot-four, 261-pound fighter who has the backing of the Soviet Union.\", \"Rocky IV\"),\n",
    "]\n"
   ]
  },
  {
   "cell_type": "code",
   "execution_count": null,
   "id": "9bc2373a",
   "metadata": {
    "ExecuteTime": {
     "end_time": "2023-04-18T17:36:47.300672Z",
     "start_time": "2023-04-18T17:36:47.300672Z"
    }
   },
   "outputs": [],
   "source": [
    "algorithms = [get_movies_ranked_rake, get_movies_ranked_tfidf, get_movies_ranked_bow]\n",
    "algorithm_names = ['RAKE + TF-IDF', 'TF-IDF', 'BOW']\n",
    "\n",
    "results = np.zeros((len(test_cases), len(algorithms)))\n",
    "\n",
    "for i, test_case in enumerate(test_cases):\n",
    "    for j, algorithm in enumerate(algorithms):\n",
    "        similarity, index = get_similarity(test_case, algorithm, movies_df)\n",
    "        print(test_case[1] + \" \" + algorithm_names[j] + \" : Index -> \" + str(index) + \" Similarity Score ->\" + str(similarity))\n",
    "        results[i,j] = similarity\n",
    "\n",
    "mean_similarities = results.mean(axis=0)\n",
    "\n",
    "import matplotlib.pyplot as plt\n",
    "\n",
    "plt.bar(algorithm_names, mean_similarities)\n",
    "plt.xlabel('Algorithm')\n",
    "plt.ylabel('Mean similarity score')\n",
    "plt.show()"
   ]
  },
  {
   "cell_type": "code",
   "execution_count": null,
   "id": "ed60c922",
   "metadata": {},
   "outputs": [],
   "source": []
  }
 ],
 "metadata": {
  "kernelspec": {
   "display_name": "Python 3 (ipykernel)",
   "language": "python",
   "name": "python3"
  },
  "language_info": {
   "codemirror_mode": {
    "name": "ipython",
    "version": 3
   },
   "file_extension": ".py",
   "mimetype": "text/x-python",
   "name": "python",
   "nbconvert_exporter": "python",
   "pygments_lexer": "ipython3",
   "version": "3.11.2"
  },
  "toc": {
   "base_numbering": 1,
   "nav_menu": {},
   "number_sections": true,
   "sideBar": true,
   "skip_h1_title": false,
   "title_cell": "Table of Contents",
   "title_sidebar": "Contents",
   "toc_cell": false,
   "toc_position": {},
   "toc_section_display": true,
   "toc_window_display": false
  }
 },
 "nbformat": 4,
 "nbformat_minor": 5
}
