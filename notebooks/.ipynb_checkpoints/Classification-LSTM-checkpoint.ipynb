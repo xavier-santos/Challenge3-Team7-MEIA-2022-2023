{
 "cells": [
  {
   "cell_type": "code",
   "execution_count": 30,
   "id": "3d35a6b6",
   "metadata": {},
   "outputs": [
    {
     "name": "stdout",
     "output_type": "stream",
     "text": [
      "Epoch 1/15\n",
      "160/160 - 119s - loss: 0.5643 - accuracy: 0.2618 - val_loss: 0.5585 - val_accuracy: 0.2648 - 119s/epoch - 744ms/step\n",
      "Epoch 2/15\n",
      "160/160 - 75s - loss: 0.5581 - accuracy: 0.2618 - val_loss: 0.5579 - val_accuracy: 0.2648 - 75s/epoch - 471ms/step\n",
      "Epoch 3/15\n",
      "160/160 - 91s - loss: 0.5579 - accuracy: 0.2608 - val_loss: 0.5597 - val_accuracy: 0.2648 - 91s/epoch - 568ms/step\n",
      "Epoch 4/15\n",
      "160/160 - 79s - loss: 0.5560 - accuracy: 0.2618 - val_loss: 0.5420 - val_accuracy: 0.2906 - 79s/epoch - 492ms/step\n",
      "Epoch 5/15\n",
      "160/160 - 107s - loss: 0.5255 - accuracy: 0.2913 - val_loss: 0.5166 - val_accuracy: 0.3172 - 107s/epoch - 667ms/step\n",
      "Epoch 6/15\n",
      "160/160 - 114s - loss: 0.4875 - accuracy: 0.3194 - val_loss: 0.4997 - val_accuracy: 0.3328 - 114s/epoch - 711ms/step\n",
      "Epoch 7/15\n",
      "160/160 - 134s - loss: 0.4450 - accuracy: 0.3499 - val_loss: 0.4597 - val_accuracy: 0.3445 - 134s/epoch - 839ms/step\n",
      "Epoch 8/15\n",
      "160/160 - 155s - loss: 0.4050 - accuracy: 0.3452 - val_loss: 0.4413 - val_accuracy: 0.3391 - 155s/epoch - 970ms/step\n",
      "Epoch 9/15\n",
      "160/160 - 148s - loss: 0.3653 - accuracy: 0.3657 - val_loss: 0.4432 - val_accuracy: 0.3031 - 148s/epoch - 926ms/step\n",
      "Epoch 10/15\n",
      "160/160 - 152s - loss: 0.3302 - accuracy: 0.4057 - val_loss: 0.4374 - val_accuracy: 0.3242 - 152s/epoch - 948ms/step\n",
      "Epoch 11/15\n",
      "160/160 - 101s - loss: 0.2977 - accuracy: 0.4360 - val_loss: 0.4291 - val_accuracy: 0.4094 - 101s/epoch - 628ms/step\n",
      "Epoch 12/15\n",
      "160/160 - 101s - loss: 0.2670 - accuracy: 0.4556 - val_loss: 0.4247 - val_accuracy: 0.3781 - 101s/epoch - 633ms/step\n",
      "Epoch 13/15\n",
      "160/160 - 116s - loss: 0.2370 - accuracy: 0.4784 - val_loss: 0.4281 - val_accuracy: 0.3961 - 116s/epoch - 723ms/step\n",
      "Epoch 14/15\n",
      "160/160 - 108s - loss: 0.2110 - accuracy: 0.4933 - val_loss: 0.4203 - val_accuracy: 0.3727 - 108s/epoch - 677ms/step\n",
      "Epoch 15/15\n",
      "160/160 - 107s - loss: 0.1874 - accuracy: 0.4903 - val_loss: 0.4379 - val_accuracy: 0.3688 - 107s/epoch - 671ms/step\n",
      "40/40 [==============================] - 10s 232ms/step - loss: 0.4379 - accuracy: 0.3688\n",
      "Loss: 0.43791261315345764\n",
      "Accuracy: 0.3687500059604645\n"
     ]
    }
   ],
   "source": [
    "import numpy as np\n",
    "import pandas as pd\n",
    "from tensorflow.keras.preprocessing.text import Tokenizer\n",
    "from tensorflow.keras.preprocessing.sequence import pad_sequences\n",
    "from tensorflow.keras.models import Sequential\n",
    "from tensorflow.keras.layers import Embedding, LSTM, TimeDistributed, Dense, Dropout\n",
    "from tensorflow.keras.optimizers import RMSprop, Adam\n",
    "\n",
    "train_data = pd.read_csv('../data/balanced_train.csv')\n",
    "test_data = pd.read_csv('../data/balanced_test.csv')\n",
    "\n",
    "genre_columns = train_data.columns.drop(['Name', 'Description Tokenized'])\n",
    "\n",
    "# Tokenizar os textos\n",
    "tokenizer = Tokenizer()\n",
    "tokenizer.fit_on_texts(list(train_data['Description Tokenized']) + list(test_data['Description Tokenized']))\n",
    "word_index = tokenizer.word_index\n",
    "num_words = len(word_index) + 1\n",
    "\n",
    "X_train = tokenizer.texts_to_sequences(train_data['Description Tokenized'])\n",
    "X_test = tokenizer.texts_to_sequences(test_data['Description Tokenized'])\n",
    "\n",
    "maxlen = max(max([len(sequence) for sequence in X_train]), max([len(sequence) for sequence in X_test]))\n",
    "\n",
    "# Padronizar os textos\n",
    "X_train = pad_sequences(X_train, maxlen=maxlen)\n",
    "X_test = pad_sequences(X_test, maxlen=maxlen)\n",
    "\n",
    "#labels one-hot encoded\n",
    "y_train = train_data[genre_columns].values\n",
    "y_test = test_data[genre_columns].values\n",
    "\n",
    "\n",
    "# modelo LSTM unidirecional\n",
    "embedding_dim = 100\n",
    "\n",
    "model = Sequential()\n",
    "model.add(Embedding(num_words, embedding_dim, input_length=maxlen))\n",
    "model.add(LSTM(128, return_sequences=True, dropout=0.25, recurrent_dropout=0.25))\n",
    "model.add(TimeDistributed(Dense(128, activation='relu')))\n",
    "model.add(Dropout(0.5))\n",
    "model.add(LSTM(128, dropout=0.25, recurrent_dropout=0.25))\n",
    "model.add(Dense(len(genre_columns), activation='sigmoid'))\n",
    "\n",
    "# Compilar e treinar o modelo\n",
    "optimizer = RMSprop(learning_rate=0.01)\n",
    "model.compile(loss='binary_crossentropy', optimizer=optimizer, metrics=['accuracy'])\n",
    "\n",
    "num_epochs = 15\n",
    "history = model.fit(X_train, y_train, epochs=num_epochs, validation_data=(X_test, y_test), verbose=2)\n",
    "\n",
    "# 4. Avaliar o modelo\n",
    "loss, accuracy = model.evaluate(X_test, y_test)\n",
    "print('Loss:', loss)\n",
    "print('Accuracy:', accuracy)"
   ]
  },
  {
   "cell_type": "code",
   "execution_count": 31,
   "id": "431741eb",
   "metadata": {},
   "outputs": [
    {
     "name": "stdout",
     "output_type": "stream",
     "text": [
      "40/40 [==============================] - 8s 127ms/step\n",
      "                         precision    recall  f1-score   support\n",
      "\n",
      "                 Comedy       0.75      0.66      0.70       487\n",
      "                  Crime       0.78      0.76      0.77       271\n",
      "                  Drama       0.73      0.83      0.78       613\n",
      "                Romance       0.67      0.64      0.66       270\n",
      "   Action and Adventure       0.70      0.69      0.69       463\n",
      "Documentary and History       0.77      0.58      0.66       172\n",
      "   Family and Animation       0.70      0.68      0.69       275\n",
      "     Fantasy and Sci-Fi       0.67      0.66      0.66       259\n",
      "    Horror and Thriller       0.65      0.62      0.64       309\n",
      "\n",
      "              micro avg       0.71      0.70      0.71      3119\n",
      "              macro avg       0.71      0.68      0.69      3119\n",
      "           weighted avg       0.71      0.70      0.70      3119\n",
      "            samples avg       0.71      0.68      0.68      3119\n",
      "\n"
     ]
    }
   ],
   "source": [
    "from sklearn.metrics import classification_report\n",
    "\n",
    "y_pred = model.predict(X_test)\n",
    "y_pred_binarized = np.round(y_pred)\n",
    "\n",
    "report = classification_report(y_test, y_pred_binarized, target_names=genre_columns, zero_division=0)\n",
    "print(report)"
   ]
  },
  {
   "cell_type": "code",
   "execution_count": null,
   "id": "208623d9",
   "metadata": {},
   "outputs": [],
   "source": []
  }
 ],
 "metadata": {
  "kernelspec": {
   "display_name": "Python 3 (ipykernel)",
   "language": "python",
   "name": "python3"
  },
  "language_info": {
   "codemirror_mode": {
    "name": "ipython",
    "version": 3
   },
   "file_extension": ".py",
   "mimetype": "text/x-python",
   "name": "python",
   "nbconvert_exporter": "python",
   "pygments_lexer": "ipython3",
   "version": "3.9.16"
  }
 },
 "nbformat": 4,
 "nbformat_minor": 5
}
