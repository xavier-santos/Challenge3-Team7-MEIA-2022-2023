{
 "cells": [
  {
   "cell_type": "code",
   "execution_count": 6,
   "id": "f6674ffe",
   "metadata": {
    "ExecuteTime": {
     "end_time": "2023-04-17T16:41:31.550410Z",
     "start_time": "2023-04-17T16:35:39.347099Z"
    },
    "scrolled": false
   },
   "outputs": [
    {
     "name": "stdout",
     "output_type": "stream",
     "text": [
      "Epoch 1/10\n",
      "144/144 [==============================] - 34s 201ms/step - loss: 0.5520 - accuracy: 0.2874 - val_loss: 0.5039 - val_accuracy: 0.3027\n",
      "Epoch 2/10\n",
      "144/144 [==============================] - 28s 192ms/step - loss: 0.4123 - accuracy: 0.4747 - val_loss: 0.4167 - val_accuracy: 0.4473\n",
      "Epoch 3/10\n",
      "144/144 [==============================] - 33s 230ms/step - loss: 0.2902 - accuracy: 0.5305 - val_loss: 0.3991 - val_accuracy: 0.4512\n",
      "Epoch 4/10\n",
      "144/144 [==============================] - 28s 195ms/step - loss: 0.2064 - accuracy: 0.5188 - val_loss: 0.4088 - val_accuracy: 0.4258\n",
      "Epoch 5/10\n",
      "144/144 [==============================] - 28s 195ms/step - loss: 0.1497 - accuracy: 0.5368 - val_loss: 0.4265 - val_accuracy: 0.4336\n",
      "Epoch 6/10\n",
      "144/144 [==============================] - 30s 211ms/step - loss: 0.1053 - accuracy: 0.5318 - val_loss: 0.4813 - val_accuracy: 0.4160\n",
      "Epoch 7/10\n",
      "144/144 [==============================] - 31s 213ms/step - loss: 0.0749 - accuracy: 0.5502 - val_loss: 0.5068 - val_accuracy: 0.3945\n",
      "Epoch 8/10\n",
      "144/144 [==============================] - 29s 199ms/step - loss: 0.0522 - accuracy: 0.5539 - val_loss: 0.5387 - val_accuracy: 0.3926\n",
      "Epoch 9/10\n",
      "144/144 [==============================] - 29s 200ms/step - loss: 0.0410 - accuracy: 0.5381 - val_loss: 0.5784 - val_accuracy: 0.4297\n",
      "Epoch 10/10\n",
      "144/144 [==============================] - 29s 201ms/step - loss: 0.0338 - accuracy: 0.5570 - val_loss: 0.6091 - val_accuracy: 0.4219\n",
      "40/40 [==============================] - 3s 71ms/step - loss: 0.5626 - accuracy: 0.4227\n",
      "Loss: 0.5626355409622192\n",
      "Accuracy: 0.42265623807907104\n"
     ]
    }
   ],
   "source": [
    "import numpy as np\n",
    "import pandas as pd\n",
    "from tensorflow.keras.preprocessing.text import Tokenizer\n",
    "from tensorflow.keras.preprocessing.sequence import pad_sequences\n",
    "from tensorflow.keras.models import Sequential\n",
    "from tensorflow.keras.layers import Embedding, Bidirectional, LSTM, Dense\n",
    "from tensorflow.keras.optimizers import Adam\n",
    "from sklearn.model_selection import train_test_split\n",
    "\n",
    "\n",
    "df = pd.read_csv('../data/test.csv')\n",
    "# 1. Pré-processar os dados\n",
    "# Carregue seus datasets balanceados\n",
    "train_data, test_data = train_test_split(df, test_size=0.2, random_state=42)\n",
    "\n",
    "category_columns = train_data.columns.drop(['Name', 'Description Tokenized'])\n",
    "\n",
    "# Defina os parâmetros de pré-processamento\n",
    "max_features = 10000  # Número máximo de palavras a serem usadas (palavras mais frequentes)\n",
    "maxlen = 200  # Número máximo de palavras no texto\n",
    "\n",
    "# Tokenize os textos\n",
    "tokenizer = Tokenizer(num_words=max_features)\n",
    "tokenizer.fit_on_texts(train_data['Description Tokenized'])\n",
    "\n",
    "X_train = tokenizer.texts_to_sequences(train_data['Description Tokenized'])\n",
    "X_test = tokenizer.texts_to_sequences(test_data['Description Tokenized'])\n",
    "\n",
    "# Padronize os textos\n",
    "X_train = pad_sequences(X_train, maxlen=maxlen)\n",
    "X_test = pad_sequences(X_test, maxlen=maxlen)\n",
    "\n",
    "# Obtenha os labels one-hot encoded\n",
    "y_train = train_data[category_columns].values\n",
    "y_test = test_data[category_columns].values\n",
    "\n",
    "# 2. Construir o modelo\n",
    "embedding_dim = 128  # Dimensão do vetor de embedding\n",
    "lstm_units = 64  # Unidades LSTM\n",
    "\n",
    "model = Sequential([\n",
    "    Embedding(max_features, embedding_dim, input_length=maxlen),\n",
    "    Bidirectional(LSTM(lstm_units, return_sequences=True)),\n",
    "    Bidirectional(LSTM(lstm_units)),\n",
    "    Dense(len(category_columns), activation='sigmoid')\n",
    "])\n",
    "\n",
    "# 3. Treinar o modelo\n",
    "optimizer = Adam(learning_rate=0.001)\n",
    "model.compile(loss='binary_crossentropy', optimizer=optimizer, metrics=['accuracy'])\n",
    "\n",
    "batch_size = 32\n",
    "epochs = 10\n",
    "\n",
    "model.fit(X_train, y_train, batch_size=batch_size, epochs=epochs, validation_split=0.1)\n",
    "\n",
    "# 4. Avaliar o modelo\n",
    "loss, accuracy = model.evaluate(X_test, y_test)\n",
    "print('Loss:', loss)\n",
    "print('Accuracy:', accuracy)"
   ]
  },
  {
   "cell_type": "code",
   "execution_count": null,
   "id": "264e046b",
   "metadata": {
    "ExecuteTime": {
     "start_time": "2023-04-17T16:56:32.375Z"
    }
   },
   "outputs": [],
   "source": [
    "!pip install torch"
   ]
  },
  {
   "cell_type": "code",
   "execution_count": 7,
   "id": "affa0801",
   "metadata": {
    "ExecuteTime": {
     "end_time": "2023-04-17T16:50:33.660147Z",
     "start_time": "2023-04-17T16:50:30.243782Z"
    }
   },
   "outputs": [
    {
     "name": "stdout",
     "output_type": "stream",
     "text": [
      "40/40 [==============================] - 3s 46ms/step\n",
      "                         precision    recall  f1-score   support\n",
      "\n",
      "                 Comedy       0.70      0.76      0.73       487\n",
      "                  Crime       0.72      0.82      0.76       271\n",
      "                  Drama       0.79      0.81      0.80       613\n",
      "                Romance       0.69      0.67      0.68       270\n",
      "   Action and Adventure       0.80      0.73      0.76       463\n",
      "Documentary and History       0.77      0.65      0.70       172\n",
      "   Family and Animation       0.77      0.70      0.73       275\n",
      "     Fantasy and Sci-Fi       0.71      0.76      0.74       259\n",
      "    Horror and Thriller       0.63      0.68      0.65       309\n",
      "\n",
      "              micro avg       0.73      0.74      0.74      3119\n",
      "              macro avg       0.73      0.73      0.73      3119\n",
      "           weighted avg       0.74      0.74      0.74      3119\n",
      "            samples avg       0.72      0.73      0.71      3119\n",
      "\n"
     ]
    }
   ],
   "source": [
    "from sklearn.metrics import classification_report\n",
    "\n",
    "# Prever e converter as previsões para o formato binarizado\n",
    "y_pred = model.predict(X_test)\n",
    "y_pred_binarized = np.round(y_pred)\n",
    "\n",
    "# Calcular e exibir métricas de avaliação\n",
    "report = classification_report(y_test, y_pred_binarized, target_names=category_columns, zero_division=0)\n",
    "print(report)"
   ]
  },
  {
   "cell_type": "code",
   "execution_count": 12,
   "id": "1132640e",
   "metadata": {},
   "outputs": [
    {
     "name": "stdout",
     "output_type": "stream",
     "text": [
      "41/41 [==============================] - 9s 222ms/step\n",
      "F1-score (micro): 0.57\n",
      "F1-score (macro): 0.50\n",
      "Precision (micro): 0.63\n",
      "Precision (macro): 0.57\n",
      "Recall (micro): 0.53\n",
      "Recall (macro): 0.46\n",
      "41/41 [==============================] - 10s 247ms/step\n",
      "Class: Comedy\n",
      "F1-score: 0.55\n",
      "AUC-PR: 0.63\n",
      "\n",
      "\n",
      "Class: Crime\n",
      "F1-score: 0.58\n",
      "AUC-PR: 0.63\n",
      "\n",
      "\n",
      "Class: Drama\n",
      "F1-score: 0.74\n",
      "AUC-PR: 0.77\n",
      "\n",
      "\n",
      "Class: Romance\n",
      "F1-score: 0.41\n",
      "AUC-PR: 0.46\n",
      "\n",
      "\n",
      "Class: Action and Adventure\n",
      "F1-score: 0.59\n",
      "AUC-PR: 0.66\n",
      "\n",
      "\n",
      "Class: Documentary and History\n",
      "F1-score: 0.38\n",
      "AUC-PR: 0.39\n",
      "\n",
      "\n",
      "Class: Family and Animation\n",
      "F1-score: 0.37\n",
      "AUC-PR: 0.39\n",
      "\n",
      "\n",
      "Class: Fantasy and Sci-Fi\n",
      "F1-score: 0.44\n",
      "AUC-PR: 0.39\n",
      "\n",
      "\n",
      "Class: Horror and Thriller\n",
      "F1-score: 0.48\n",
      "AUC-PR: 0.50\n",
      "\n",
      "\n"
     ]
    }
   ],
   "source": [
    "from sklearn.metrics import f1_score, average_precision_score, precision_recall_curve, precision_score, recall_score\n",
    "\n",
    "y_pred = model.predict(X_test)\n",
    "y_pred = np.round(y_pred)\n",
    "f1_micro = f1_score(y_test, y_pred, average='micro')\n",
    "f1_macro = f1_score(y_test, y_pred, average='macro')\n",
    "precision_micro = precision_score(y_test, y_pred, average='micro')\n",
    "precision_macro = precision_score(y_test, y_pred, average='macro')\n",
    "recall_micro = recall_score(y_test, y_pred, average='micro')\n",
    "recall_macro = recall_score(y_test, y_pred, average='macro')\n",
    "print(\"F1-score (micro): {:.2f}\".format(f1_micro))\n",
    "print(\"F1-score (macro): {:.2f}\".format(f1_macro))\n",
    "print(\"Precision (micro): {:.2f}\".format(precision_micro))\n",
    "print(\"Precision (macro): {:.2f}\".format(precision_macro))\n",
    "print(\"Recall (micro): {:.2f}\".format(recall_micro))\n",
    "print(\"Recall (macro): {:.2f}\".format(recall_macro))\n",
    "\n",
    "y_pred = model.predict(X_test)\n",
    "f1_scores_per_class = f1_score(y_test, np.round(y_pred), average=None)\n",
    "auc_pr_per_class = average_precision_score(y_test, y_pred, average=None)\n",
    "for i, category in enumerate(category_columns):\n",
    "    print(\"Class: {}\".format(category))\n",
    "    print(\"F1-score: {:.2f}\".format(f1_scores_per_class[i]))\n",
    "    print(\"AUC-PR: {:.2f}\".format(auc_pr_per_class[i]))\n",
    "    print(\"\\n\")"
   ]
  }
 ],
 "metadata": {
  "kernelspec": {
   "display_name": "Python 3 (ipykernel)",
   "language": "python",
   "name": "python3"
  },
  "language_info": {
   "codemirror_mode": {
    "name": "ipython",
    "version": 3
   },
   "file_extension": ".py",
   "mimetype": "text/x-python",
   "name": "python",
   "nbconvert_exporter": "python",
   "pygments_lexer": "ipython3",
   "version": "3.11.2"
  },
  "toc": {
   "base_numbering": 1,
   "nav_menu": {},
   "number_sections": true,
   "sideBar": true,
   "skip_h1_title": false,
   "title_cell": "Table of Contents",
   "title_sidebar": "Contents",
   "toc_cell": false,
   "toc_position": {},
   "toc_section_display": true,
   "toc_window_display": false
  }
 },
 "nbformat": 4,
 "nbformat_minor": 5
}
