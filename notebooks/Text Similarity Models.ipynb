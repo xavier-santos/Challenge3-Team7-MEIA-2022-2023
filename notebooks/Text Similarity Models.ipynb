{
 "cells": [
  {
   "cell_type": "code",
   "execution_count": 5,
   "id": "cfb4c88a",
   "metadata": {
    "ExecuteTime": {
     "end_time": "2023-04-18T17:49:29.279808Z",
     "start_time": "2023-04-18T17:49:28.922862Z"
    }
   },
   "outputs": [
    {
     "name": "stderr",
     "output_type": "stream",
     "text": [
      "[nltk_data] Downloading package punkt to\n",
      "[nltk_data]     C:\\Users\\SantosM\\AppData\\Roaming\\nltk_data...\n",
      "[nltk_data]   Package punkt is already up-to-date!\n",
      "[nltk_data] Downloading package wordnet to\n",
      "[nltk_data]     C:\\Users\\SantosM\\AppData\\Roaming\\nltk_data...\n",
      "[nltk_data]   Package wordnet is already up-to-date!\n",
      "[nltk_data] Downloading package omw-1.4 to\n",
      "[nltk_data]     C:\\Users\\SantosM\\AppData\\Roaming\\nltk_data...\n",
      "[nltk_data]   Package omw-1.4 is already up-to-date!\n",
      "[nltk_data] Downloading package stopwords to\n",
      "[nltk_data]     C:\\Users\\SantosM\\AppData\\Roaming\\nltk_data...\n",
      "[nltk_data]   Package stopwords is already up-to-date!\n"
     ]
    }
   ],
   "source": [
    "import pandas as pd\n",
    "from sklearn.feature_extraction.text import CountVectorizer, TfidfVectorizer\n",
    "from sklearn.metrics.pairwise import cosine_similarity\n",
    "import numpy as np\n",
    "import nltk\n",
    "from nltk.stem import WordNetLemmatizer\n",
    "import re\n",
    "from nltk.corpus import stopwords\n",
    "from nltk.tokenize import RegexpTokenizer\n",
    "import string\n",
    "import unicodedata\n",
    "from rake_nltk import Rake\n",
    "from nltk.tokenize import RegexpTokenizer\n",
    "nltk.download('punkt')\n",
    "nltk.download('wordnet')\n",
    "nltk.download('omw-1.4')\n",
    "nltk.download('stopwords')\n",
    "\n",
    "movies_df = pd.read_csv('../data/similarity_model_dataset.csv')# Get user input description\n",
    "\n",
    "example_user_input = \"In this thrilling fantasy film, a young wizard competes in a dangerous tournament between rival schools of magic. Along with his friends, he navigates challenging tasks and uncovers a dark conspiracy that threatens the entire wizarding world. With impressive special effects and a talented cast, this captivating adventure is full of action, humor, and heart.\"\n"
   ]
  },
  {
   "cell_type": "code",
   "execution_count": 13,
   "id": "fd18a7dc",
   "metadata": {
    "ExecuteTime": {
     "end_time": "2023-04-18T17:52:06.155141Z",
     "start_time": "2023-04-18T17:49:57.939356Z"
    }
   },
   "outputs": [
    {
     "name": "stdout",
     "output_type": "stream",
     "text": [
      "Collecting matplotlib\n",
      "  Downloading matplotlib-3.7.1-cp311-cp311-win_amd64.whl (7.6 MB)\n",
      "                                              0.0/7.6 MB ? eta -:--:--\n",
      "     -                                        0.3/7.6 MB 7.0 MB/s eta 0:00:02\n",
      "     ----                                     0.8/7.6 MB 9.8 MB/s eta 0:00:01\n",
      "     -----                                    1.0/7.6 MB 8.9 MB/s eta 0:00:01\n",
      "     -------                                  1.4/7.6 MB 8.9 MB/s eta 0:00:01\n",
      "     ---------                                1.8/7.6 MB 9.6 MB/s eta 0:00:01\n",
      "     -----------                              2.2/7.6 MB 10.1 MB/s eta 0:00:01\n",
      "     -------------                            2.6/7.6 MB 10.4 MB/s eta 0:00:01\n",
      "     ---------------                          3.0/7.6 MB 10.2 MB/s eta 0:00:01\n",
      "     -----------------                        3.4/7.6 MB 10.4 MB/s eta 0:00:01\n",
      "     -------------------                      3.8/7.6 MB 10.6 MB/s eta 0:00:01\n",
      "     ----------------------                   4.2/7.6 MB 10.4 MB/s eta 0:00:01\n",
      "     ------------------------                 4.6/7.6 MB 10.5 MB/s eta 0:00:01\n",
      "     --------------------------               5.0/7.6 MB 10.7 MB/s eta 0:00:01\n",
      "     ----------------------------             5.4/7.6 MB 10.5 MB/s eta 0:00:01\n",
      "     ------------------------------           5.9/7.6 MB 10.7 MB/s eta 0:00:01\n",
      "     --------------------------------         6.2/7.6 MB 10.3 MB/s eta 0:00:01\n",
      "     ----------------------------------       6.6/7.6 MB 10.6 MB/s eta 0:00:01\n",
      "     -------------------------------------    7.1/7.6 MB 10.7 MB/s eta 0:00:01\n",
      "     ---------------------------------------  7.5/7.6 MB 10.6 MB/s eta 0:00:01\n",
      "     ---------------------------------------  7.6/7.6 MB 10.6 MB/s eta 0:00:01\n",
      "     ---------------------------------------  7.6/7.6 MB 10.6 MB/s eta 0:00:01\n",
      "     ---------------------------------------  7.6/7.6 MB 10.6 MB/s eta 0:00:01\n",
      "     ---------------------------------------- 7.6/7.6 MB 9.0 MB/s eta 0:00:00\n",
      "Collecting contourpy>=1.0.1 (from matplotlib)\n",
      "  Downloading contourpy-1.0.7-cp311-cp311-win_amd64.whl (162 kB)\n",
      "                                              0.0/163.0 kB ? eta -:--:--\n",
      "     -----------------------------------    153.6/163.0 kB 9.0 MB/s eta 0:00:01\n",
      "     -----------------------------------    153.6/163.0 kB 9.0 MB/s eta 0:00:01\n",
      "     -------------------------------------- 163.0/163.0 kB 1.6 MB/s eta 0:00:00\n",
      "Collecting cycler>=0.10 (from matplotlib)\n",
      "  Downloading cycler-0.11.0-py3-none-any.whl (6.4 kB)\n",
      "Collecting fonttools>=4.22.0 (from matplotlib)\n",
      "  Downloading fonttools-4.39.3-py3-none-any.whl (1.0 MB)\n",
      "                                              0.0/1.0 MB ? eta -:--:--\n",
      "     ----------------                         0.4/1.0 MB 13.2 MB/s eta 0:00:01\n",
      "     ----------------------------------       0.9/1.0 MB 13.7 MB/s eta 0:00:01\n",
      "     ---------------------------------------  1.0/1.0 MB 12.7 MB/s eta 0:00:01\n",
      "     ---------------------------------------  1.0/1.0 MB 12.7 MB/s eta 0:00:01\n",
      "     ---------------------------------------- 1.0/1.0 MB 5.8 MB/s eta 0:00:00\n",
      "Collecting kiwisolver>=1.0.1 (from matplotlib)\n",
      "  Downloading kiwisolver-1.4.4-cp311-cp311-win_amd64.whl (55 kB)\n",
      "                                              0.0/55.4 kB ? eta -:--:--\n",
      "     ------------------------------------     51.2/55.4 kB ? eta -:--:--\n",
      "     ------------------------------------     51.2/55.4 kB ? eta -:--:--\n",
      "     -------------------------------------- 55.4/55.4 kB 578.9 kB/s eta 0:00:00\n",
      "Requirement already satisfied: numpy>=1.20 in c:\\users\\santosm\\anaconda3\\envs\\tf\\lib\\site-packages (from matplotlib) (1.23.5)\n",
      "Requirement already satisfied: packaging>=20.0 in c:\\users\\santosm\\anaconda3\\envs\\tf\\lib\\site-packages (from matplotlib) (23.0)\n",
      "Collecting pillow>=6.2.0 (from matplotlib)\n",
      "  Downloading Pillow-9.5.0-cp311-cp311-win_amd64.whl (2.5 MB)\n",
      "                                              0.0/2.5 MB ? eta -:--:--\n",
      "     --                                       0.2/2.5 MB 10.2 MB/s eta 0:00:01\n",
      "     -----                                    0.3/2.5 MB 4.9 MB/s eta 0:00:01\n",
      "     ------                                   0.4/2.5 MB 4.2 MB/s eta 0:00:01\n",
      "     --------                                 0.6/2.5 MB 4.4 MB/s eta 0:00:01\n",
      "     -----------                              0.7/2.5 MB 4.2 MB/s eta 0:00:01\n",
      "     ------------                             0.8/2.5 MB 3.9 MB/s eta 0:00:01\n",
      "     ------------                             0.8/2.5 MB 3.9 MB/s eta 0:00:01\n",
      "     --------------                           0.9/2.5 MB 3.2 MB/s eta 0:00:01\n",
      "     ---------------                          1.0/2.5 MB 3.0 MB/s eta 0:00:01\n",
      "     ----------------                         1.1/2.5 MB 2.9 MB/s eta 0:00:01\n",
      "     -----------------                        1.1/2.5 MB 2.8 MB/s eta 0:00:01\n",
      "     -------------------                      1.2/2.5 MB 2.7 MB/s eta 0:00:01\n",
      "     -------------------                      1.2/2.5 MB 2.7 MB/s eta 0:00:01\n",
      "     --------------------                     1.3/2.5 MB 2.7 MB/s eta 0:00:01\n",
      "     ---------------------                    1.4/2.5 MB 2.6 MB/s eta 0:00:01\n",
      "     -----------------------                  1.5/2.5 MB 2.6 MB/s eta 0:00:01\n",
      "     --------------------------               1.6/2.5 MB 2.7 MB/s eta 0:00:01\n",
      "     ----------------------------             1.8/2.5 MB 2.7 MB/s eta 0:00:01\n",
      "     -------------------------------          2.0/2.5 MB 2.9 MB/s eta 0:00:01\n",
      "     ----------------------------------       2.2/2.5 MB 3.0 MB/s eta 0:00:01\n",
      "     -------------------------------------    2.4/2.5 MB 3.1 MB/s eta 0:00:01\n",
      "     ---------------------------------------  2.5/2.5 MB 3.1 MB/s eta 0:00:01\n",
      "     ---------------------------------------  2.5/2.5 MB 3.1 MB/s eta 0:00:01\n",
      "     ---------------------------------------  2.5/2.5 MB 3.1 MB/s eta 0:00:01\n",
      "     ---------------------------------------- 2.5/2.5 MB 2.8 MB/s eta 0:00:00\n",
      "Collecting pyparsing>=2.3.1 (from matplotlib)\n",
      "  Using cached pyparsing-3.0.9-py3-none-any.whl (98 kB)\n",
      "Requirement already satisfied: python-dateutil>=2.7 in c:\\users\\santosm\\anaconda3\\envs\\tf\\lib\\site-packages (from matplotlib) (2.8.2)\n",
      "Requirement already satisfied: six>=1.5 in c:\\users\\santosm\\anaconda3\\envs\\tf\\lib\\site-packages (from python-dateutil>=2.7->matplotlib) (1.16.0)\n",
      "Installing collected packages: pyparsing, pillow, kiwisolver, fonttools, cycler, contourpy, matplotlib\n",
      "Successfully installed contourpy-1.0.7 cycler-0.11.0 fonttools-4.39.3 kiwisolver-1.4.4 matplotlib-3.7.1 pillow-9.5.0 pyparsing-3.0.9\n"
     ]
    }
   ],
   "source": [
    "!pip install matplotlib"
   ]
  },
  {
   "cell_type": "code",
   "execution_count": 14,
   "id": "e4043fe8",
   "metadata": {
    "ExecuteTime": {
     "end_time": "2023-04-18T17:52:06.172052Z",
     "start_time": "2023-04-18T17:52:06.158127Z"
    }
   },
   "outputs": [],
   "source": [
    "def remove_accents(sentence):\n",
    "    cleaned_sentence = unicodedata.normalize('NFD', sentence)\n",
    "    cleaned_sentence = cleaned_sentence.encode('ascii', 'ignore')\n",
    "    cleaned_sentence = cleaned_sentence.decode(\"utf-8\")\n",
    "    return cleaned_sentence\n",
    "\n",
    "def remove_punctuation(sentence):\n",
    "    cleaned_sentence = re.sub(r'[?|!|\\'|\"|#]', '', sentence)\n",
    "    cleaned_sentence = re.sub(r'[,|.|;|:|(|)|{|}|\\|/|<|>]|-', ' ', cleaned_sentence)\n",
    "    cleaned_sentence = cleaned_sentence.replace(\"\\n\",\" \")\n",
    "    return cleaned_sentence\n",
    "\n",
    "def keep_alpha(sentence):\n",
    "    alpha_sentence = re.sub('[^a-z A-Z]+', ' ', sentence)\n",
    "    return alpha_sentence\n",
    "\n",
    "def stemming(sentence):\n",
    "    stemmer = SnowballStemmer(\"english\")\n",
    "    stemmed_words = [stemmer.stem(word) for word in sentence.split()]\n",
    "    stemmed_sentence=' '.join(stemmed_words)\n",
    "    return stemmed_sentence\n",
    "\n",
    "def lemmatize_words(sentence):\n",
    "    lem = WordNetLemmatizer()\n",
    "    lemmatized_words = [lem.lemmatize(word, 'v') for word in sentence.split()]\n",
    "    lemmatized_sentence=' '.join(lemmatized_words)\n",
    "    return lemmatized_sentence\n",
    "\n",
    "def remove_stop_words(sentence):\n",
    "    stop_words = set(stopwords.words('english'))\n",
    "    stop_words.update(['zero','one','two','three','four','five','six','seven','eight','nine','ten',\n",
    "                       'may','also','across','among','beside','however','yet','within','find'])\n",
    "    no_stop_words=[word for word in sentence.split() if word not in stop_words]\n",
    "    no_step_sentence = ' '.join(no_stop_words)\n",
    "    return no_step_sentence\n",
    "\n",
    "def lower_case(sentence):\n",
    "    lower_case_sentence = sentence.lower()\n",
    "    return lower_case_sentence\n",
    "\n",
    "def tokenize_input(sentence):\n",
    "    pre_processed_sentence = remove_accents(sentence)\n",
    "    pre_processed_sentence = remove_punctuation(pre_processed_sentence)\n",
    "    pre_processed_sentence = keep_alpha(pre_processed_sentence)\n",
    "    pre_processed_sentence = lower_case(pre_processed_sentence)\n",
    "    pre_processed_sentence = lemmatize_words(pre_processed_sentence)\n",
    "    pre_processed_sentence = remove_stop_words(pre_processed_sentence)\n",
    "    return pre_processed_sentence\n",
    "\n",
    "def get_movies_ranked_bow(user_input, movies_df):\n",
    "    vectorizer = CountVectorizer()\n",
    "    movie_bow = vectorizer.fit_transform(movies_df['Description Tokenized'])\n",
    "    tokenized_user_input = tokenize_input(user_input)\n",
    "    tokenized_user_input = RegexpTokenizer(r'[a-zA-z]+').tokenize(tokenized_user_input)\n",
    "    user_input_bow = vectorizer.transform(tokenized_user_input)\n",
    "    similarity_scores = cosine_similarity(user_input_bow, movie_bow)\n",
    "    movies_df = movies_df.assign(similarity=similarity_scores[0])\n",
    "    return movies_df.sort_values('similarity', ascending=False).reset_index(drop=True)\n"
   ]
  },
  {
   "cell_type": "code",
   "execution_count": 15,
   "id": "b33a9b6d",
   "metadata": {
    "ExecuteTime": {
     "end_time": "2023-04-18T17:52:06.188695Z",
     "start_time": "2023-04-18T17:52:06.174045Z"
    }
   },
   "outputs": [],
   "source": [
    "def get_movies_ranked_tfidf(user_input, movies_df):\n",
    "    vectorizer = TfidfVectorizer()   \n",
    "    tokenized_user_input = tokenize_input(user_input)\n",
    "    tokenized_user_input = RegexpTokenizer(r'[a-zA-z]+').tokenize(tokenized_user_input)\n",
    "    tfidf_bow = vectorizer.fit_transform(movies_df['Description Tokenized'])\n",
    "    user_input_tfidf_bow = vectorizer.transform(tokenized_user_input)\n",
    "    tfidf_scores = cosine_similarity(user_input_tfidf_bow, tfidf_bow)\n",
    "    movies_df = movies_df.assign(similarity=tfidf_scores[0])\n",
    "    return movies_df.sort_values('similarity', ascending=False).reset_index(drop=True)\n",
    "    \n"
   ]
  },
  {
   "cell_type": "code",
   "execution_count": 16,
   "id": "a6c58d86",
   "metadata": {
    "ExecuteTime": {
     "end_time": "2023-04-18T17:52:06.201691Z",
     "start_time": "2023-04-18T17:52:06.192691Z"
    }
   },
   "outputs": [],
   "source": [
    "def get_similar_movies(user_input, r, vectorizer, tfidf_matrix, n=10):\n",
    "    keywords = r.extract_keywords_from_text(user_input)\n",
    "    user_input_keywords = r.get_ranked_phrases()\n",
    "    user_input_tfidf = vectorizer.transform(user_input_keywords)\n",
    "    return cosine_similarity(user_input_tfidf, tfidf_matrix)\n",
    "    \n",
    "\n",
    "def get_movies_ranked_rake(user_input, movies_df):\n",
    "    r = Rake()\n",
    "    vectorizer = TfidfVectorizer()\n",
    "    tfidf_matrix = vectorizer.fit_transform(movies_df['Description Tokenized'])\n",
    "    cosine_similarities = get_similar_movies(user_input, r, vectorizer, tfidf_matrix)\n",
    "    movies_df = movies_df.assign(similarity=cosine_similarities[0])\n",
    "    return movies_df.sort_values('similarity', ascending=False).reset_index(drop=True)\n"
   ]
  },
  {
   "cell_type": "code",
   "execution_count": 17,
   "id": "a5d65651",
   "metadata": {
    "ExecuteTime": {
     "end_time": "2023-04-18T17:52:06.211837Z",
     "start_time": "2023-04-18T17:52:06.203690Z"
    }
   },
   "outputs": [],
   "source": [
    "test_cases = [\n",
    "    (\"The fourth movie in the Harry Potter franchise sees Harry returning for his fourth year at Hogwarts School of Witchcraft and Wizardry, along with his friends, Ron (Rupert Grint) and Hermione (Emma Watson). There is an upcoming tournament between the three major schools of magic, with one participant selected from each school by the Goblet of Fire. When Harry's name is drawn, even though he is not eligible and is a fourth player, he must compete in the dangerous contest.\", \"Harry Potter and the Goblet of Fire\"),\n",
    "    (\"When a group of terrorists take over the Nakatomi Plaza in Los Angeles, New York City police officer John McClane (Bruce Willis) must use his cunning and fighting skills to take down the villains and save the hostages, including his estranged wife.\", \"Die Hard\"),\n",
    "    (\"In a post-apocalyptic world, Katniss Everdeen (Jennifer Lawrence) volunteers to compete in the annual Hunger Games, a televised fight to the death between children from each of the twelve districts of Panem. With the help of fellow tribute Peeta Mellark (Josh Hutcherson), Katniss must fight for survival and challenge the oppressive government.\", \"The Hunger Games\"),\n",
    "    (\"In the world of professional street racing, Dominic Toretto (Vin Diesel) and his crew must work together to take down a common enemy, a dangerous drug lord named Arturo Braga. With high-speed chases and intense action, the stakes have never been higher for Dom and his team.\", \"Fast & Furious\"),\n",
    "    (\"A brilliant scientist, Dr. Bruce Banner (Edward Norton) must confront his inner demons and fight against the military and his own alter ego, the Hulk. With the help of his love interest Betty Ross (Liv Tyler), Bruce must find a way to control the monster within and stop a dangerous villain from exploiting his power.\", \"The Incredible Hulk\"),\n",
    "    (\"In 1942, a group of Allied soldiers are stranded in Nazi-occupied France and must carry out a dangerous mission to take down a German radio tower. Led by Captain John H. Miller (Tom Hanks), the team faces overwhelming odds and must rely on their courage and camaraderie to succeed.\", \"Saving Private Ryan\")]\n"
   ]
  },
  {
   "cell_type": "code",
   "execution_count": 18,
   "id": "99ea7a32",
   "metadata": {
    "ExecuteTime": {
     "end_time": "2023-04-18T17:52:06.222861Z",
     "start_time": "2023-04-18T17:52:06.213833Z"
    },
    "scrolled": true
   },
   "outputs": [],
   "source": [
    "def get_similarity(test_case, algorithm, movies_df):\n",
    "    description, expected_movie = test_case\n",
    "    movies_df = algorithm(description, movies_df)\n",
    "    expected_row = movies_df.loc[movies_df['Name'] == expected_movie]\n",
    "    similarity = expected_row['similarity'].values[0]\n",
    "    index = expected_row.index[0] + 1\n",
    "    return similarity, index\n"
   ]
  },
  {
   "cell_type": "code",
   "execution_count": 19,
   "id": "a1709b18",
   "metadata": {
    "ExecuteTime": {
     "end_time": "2023-04-18T17:52:06.233297Z",
     "start_time": "2023-04-18T17:52:06.224849Z"
    }
   },
   "outputs": [],
   "source": [
    "test_cases = [\n",
    "    (\"The fourth movie in the Harry Potter franchise sees Harry returning for his fourth year at Hogwarts School of Witchcraft and Wizardry, along with his friends, Ron (Rupert Grint) and Hermione (Emma Watson). There is an upcoming tournament between the three major schools of magic, with one participant selected from each school by the Goblet of Fire. When Harry's name is drawn, even though he is not eligible and is a fourth player, he must compete in the dangerous contest.\", \"Harry Potter and the Goblet of Fire\"),\n",
    "    (\"When a group of terrorists take over the Nakatomi Plaza in Los Angeles, New York City police officer John McClane (Bruce Willis) must use his cunning and fighting skills to take down the villains and save the hostages, including his estranged wife.\", \"Die Hard with a Vengeance\"),\n",
    "    (\"Lion prince Simba and his father are targeted by his bitter uncle, who wants to ascend the throne himself.\", \"The Lion King\"),\n",
    "    (\"In a post-apocalyptic world, Katniss Everdeen (Jennifer Lawrence) volunteers to compete in the annual Hunger Games, a televised fight to the death between children from each of the twelve districts of Panem. With the help of fellow tribute Peeta Mellark (Josh Hutcherson), Katniss must fight for survival and challenge the oppressive government.\", \"The Hunger Games\"),\n",
    "    (\"A brilliant scientist, Dr. Bruce Banner (Edward Norton) must confront his inner demons and fight against the military and his own alter ego, the Hulk. With the help of his love interest Betty Ross (Liv Tyler), Bruce must find a way to control the monster within and stop a dangerous villain from exploiting his power.\", \"The Incredible Hulk\"),\n",
    "    (\"In 1942, a group of Allied soldiers are stranded in Nazi-occupied France and must carry out a dangerous mission to take down a German radio tower. Led by Captain John H. Miller (Tom Hanks), the team faces overwhelming odds and must rely on their courage and camaraderie to succeed.\", \"Saving Private Ryan\"),\n",
    "    (\"A gunslinger (Antonio Banderas) seeks revenge on the drug lord (Joaquim de Almeida) who killed his lover in this action-packed western.\", \"Desperado\"),\n",
    "    (\"The long-awaited sequel to Avatar finds Jake Sully (Sam Worthington) and Neytiri (Zoe Saldana) returning to the magical world of Pandora, where they must fight to protect their people and their planet from new threats.\", \"Avatar: The Way of Water\"),\n",
    "    (\"Rocky Balboa proudly holds the world heavyweight boxing championship, but a new challenger has stepped forward: Drago, a six-foot-four, 261-pound fighter who has the backing of the Soviet Union.\", \"Rocky IV\"),\n",
    "]\n"
   ]
  },
  {
   "cell_type": "code",
   "execution_count": 20,
   "id": "9bc2373a",
   "metadata": {
    "ExecuteTime": {
     "end_time": "2023-04-18T17:52:17.225679Z",
     "start_time": "2023-04-18T17:52:06.235288Z"
    }
   },
   "outputs": [
    {
     "name": "stdout",
     "output_type": "stream",
     "text": [
      "Harry Potter and the Goblet of Fire RAKE + TF-IDF : Index -> 1 Similarity Score ->0.3689237685754113\n",
      "Harry Potter and the Goblet of Fire TF-IDF : Index -> 321 Similarity Score ->0.0\n",
      "Harry Potter and the Goblet of Fire BOW : Index -> 321 Similarity Score ->0.0\n",
      "Die Hard with a Vengeance RAKE + TF-IDF : Index -> 1 Similarity Score ->0.43482454400909937\n",
      "Die Hard with a Vengeance TF-IDF : Index -> 6890 Similarity Score ->0.0\n",
      "Die Hard with a Vengeance BOW : Index -> 6890 Similarity Score ->0.0\n",
      "The Lion King RAKE + TF-IDF : Index -> 1 Similarity Score ->0.610606521696714\n",
      "The Lion King TF-IDF : Index -> 2 Similarity Score ->0.35266505778004364\n",
      "The Lion King BOW : Index -> 2 Similarity Score ->0.31622776601683794\n",
      "The Hunger Games RAKE + TF-IDF : Index -> 3 Similarity Score ->0.24252954029392265\n",
      "The Hunger Games TF-IDF : Index -> 5182 Similarity Score ->0.0\n",
      "The Hunger Games BOW : Index -> 5182 Similarity Score ->0.0\n",
      "The Incredible Hulk RAKE + TF-IDF : Index -> 1 Similarity Score ->0.286189036585167\n",
      "The Incredible Hulk TF-IDF : Index -> 396 Similarity Score ->0.0\n",
      "The Incredible Hulk BOW : Index -> 396 Similarity Score ->0.0\n",
      "Saving Private Ryan RAKE + TF-IDF : Index -> 6229 Similarity Score ->0.0\n",
      "Saving Private Ryan TF-IDF : Index -> 97 Similarity Score ->0.18417197112014605\n",
      "Saving Private Ryan BOW : Index -> 128 Similarity Score ->0.2581988897471611\n",
      "Desperado RAKE + TF-IDF : Index -> 5667 Similarity Score ->0.0\n",
      "Desperado TF-IDF : Index -> 4 Similarity Score ->0.2675037675017751\n",
      "Desperado BOW : Index -> 4 Similarity Score ->0.20412414523193154\n",
      "Avatar: The Way of Water RAKE + TF-IDF : Index -> 1 Similarity Score ->0.3791306771075412\n",
      "Avatar: The Way of Water TF-IDF : Index -> 5231 Similarity Score ->0.0\n",
      "Avatar: The Way of Water BOW : Index -> 5231 Similarity Score ->0.0\n",
      "Rocky IV RAKE + TF-IDF : Index -> 3 Similarity Score ->0.3692515374538162\n",
      "Rocky IV TF-IDF : Index -> 8 Similarity Score ->0.23484545017330477\n",
      "Rocky IV BOW : Index -> 8 Similarity Score ->0.22941573387056174\n"
     ]
    },
    {
     "data": {
      "image/png": "[encoded data removed]",
      "text/plain": [
       "<Figure size 640x480 with 1 Axes>"
      ]
     },
     "metadata": {},
     "output_type": "display_data"
    }
   ],
   "source": [
    "algorithms = [get_movies_ranked_rake, get_movies_ranked_tfidf, get_movies_ranked_bow]\n",
    "algorithm_names = ['RAKE + TF-IDF', 'TF-IDF', 'BOW']\n",
    "\n",
    "results = np.zeros((len(test_cases), len(algorithms)))\n",
    "\n",
    "for i, test_case in enumerate(test_cases):\n",
    "    for j, algorithm in enumerate(algorithms):\n",
    "        similarity, index = get_similarity(test_case, algorithm, movies_df)\n",
    "        print(test_case[1] + \" \" + algorithm_names[j] + \" : Index -> \" + str(index) + \" Similarity Score ->\" + str(similarity))\n",
    "        results[i,j] = similarity\n",
    "\n",
    "mean_similarities = results.mean(axis=0)\n",
    "\n",
    "import matplotlib.pyplot as plt\n",
    "\n",
    "plt.bar(algorithm_names, mean_similarities)\n",
    "plt.xlabel('Algorithm')\n",
    "plt.ylabel('Mean similarity score')\n",
    "plt.show()"
   ]
  },
  {
   "cell_type": "code",
   "execution_count": null,
   "id": "ed60c922",
   "metadata": {},
   "outputs": [],
   "source": []
  }
 ],
 "metadata": {
  "kernelspec": {
   "display_name": "Python 3 (ipykernel)",
   "language": "python",
   "name": "python3"
  },
  "language_info": {
   "codemirror_mode": {
    "name": "ipython",
    "version": 3
   },
   "file_extension": ".py",
   "mimetype": "text/x-python",
   "name": "python",
   "nbconvert_exporter": "python",
   "pygments_lexer": "ipython3",
   "version": "3.9.13"
  },
  "toc": {
   "base_numbering": 1,
   "nav_menu": {},
   "number_sections": true,
   "sideBar": true,
   "skip_h1_title": false,
   "title_cell": "Table of Contents",
   "title_sidebar": "Contents",
   "toc_cell": false,
   "toc_position": {},
   "toc_section_display": true,
   "toc_window_display": false
  }
 },
 "nbformat": 4,
 "nbformat_minor": 5
}
